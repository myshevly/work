{
 "cells": [
  {
   "cell_type": "code",
   "execution_count": 1,
   "metadata": {
    "collapsed": false
   },
   "outputs": [
    {
     "name": "stdout",
     "output_type": "stream",
     "text": [
      "Здравствуй, дивный новый мир!\n"
     ]
    }
   ],
   "source": [
    "print 'Здравствуй, дивный новый мир!'"
   ]
  },
  {
   "cell_type": "markdown",
   "metadata": {},
   "source": [
    "- первый\n",
    "- второй\n",
    "- третий"
   ]
  },
  {
   "cell_type": "code",
   "execution_count": 39,
   "metadata": {
    "collapsed": false
   },
   "outputs": [
    {
     "data": {
      "text/plain": [
       "97969.14166032098"
      ]
     },
     "execution_count": 39,
     "metadata": {},
     "output_type": "execute_result"
    }
   ],
   "source": [
    "200000.0*((1+8.0/(100*12))**(12*5))-200000.0"
   ]
  },
  {
   "cell_type": "code",
   "execution_count": 42,
   "metadata": {
    "collapsed": false
   },
   "outputs": [
    {
     "data": {
      "text/plain": [
       "97969.14166032098"
      ]
     },
     "execution_count": 42,
     "metadata": {},
     "output_type": "execute_result"
    }
   ],
   "source": [
    "# процентная ставка\n",
    "p = 8.0\n",
    "\n",
    "# сколько раз в год происходит капитализация\n",
    "f = 12\n",
    "\n",
    "# сумма вклада\n",
    "S = 200000.0\n",
    "\n",
    "# количество лет\n",
    "L = 5\n",
    "\n",
    "# запишите общую формулу прибыли вместо этой строки\n",
    "S*((1+p/(100*f))**(f*L))-S"
   ]
  },
  {
   "cell_type": "code",
   "execution_count": 43,
   "metadata": {
    "collapsed": false
   },
   "outputs": [
    {
     "data": {
      "text/plain": [
       "93865.61536000011"
      ]
     },
     "execution_count": 43,
     "metadata": {},
     "output_type": "execute_result"
    }
   ],
   "source": [
    "# процентная ставка\n",
    "p = 8.0\n",
    "\n",
    "# сколько раз в год происходит капитализация\n",
    "f = 1\n",
    "\n",
    "# сумма вклада\n",
    "S = 200000.0\n",
    "\n",
    "# количество лет\n",
    "L = 5\n",
    "\n",
    "# запишите общую формулу прибыли вместо этой строки\n",
    "S*((1+p/(100*f))**(f*L))-S"
   ]
  },
  {
   "cell_type": "code",
   "execution_count": null,
   "metadata": {
    "collapsed": true
   },
   "outputs": [],
   "source": []
  }
 ],
 "metadata": {
  "kernelspec": {
   "display_name": "Python 2",
   "language": "python",
   "name": "python2"
  },
  "language_info": {
   "codemirror_mode": {
    "name": "ipython",
    "version": 2
   },
   "file_extension": ".py",
   "mimetype": "text/x-python",
   "name": "python",
   "nbconvert_exporter": "python",
   "pygments_lexer": "ipython2",
   "version": "2.7.13"
  }
 },
 "nbformat": 4,
 "nbformat_minor": 2
}
